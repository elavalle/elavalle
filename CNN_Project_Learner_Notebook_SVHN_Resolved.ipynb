{
  "cells": [
    {
      "cell_type": "markdown",
      "metadata": {
        "id": "view-in-github",
        "colab_type": "text"
      },
      "source": [
        "<a href=\"https://colab.research.google.com/github/elavalle/elavalle/blob/main/CNN_Project_Learner_Notebook_SVHN_Resolved.ipynb\" target=\"_parent\"><img src=\"https://colab.research.google.com/assets/colab-badge.svg\" alt=\"Open In Colab\"/></a>"
      ]
    },
    {
      "cell_type": "markdown",
      "metadata": {
        "id": "Q91KqmCRu64D"
      },
      "source": [
        "# **Convolutional Neural Networks Project: Street View Housing Number Digit Recognition**\n",
        "\n",
        "# **Marks: 30**\n",
        "\n",
        "Welcome to the project on classification using Convolutional Neural Networks. We will continue to work with the Street View Housing Numbers (SVHN) image dataset for this project.\n",
        "\n",
        "--------------\n",
        "## **Context** \n",
        "--------------\n",
        "\n",
        "One of the most interesting tasks in deep learning is to recognize objects in natural scenes. The ability to process visual information using machine learning algorithms can be very useful as demonstrated in various applications.\n",
        "\n",
        "The SVHN dataset contains over 600,000 labeled digits cropped from street-level photos. It is one of the most popular image recognition datasets. It has been used in neural networks created by Google to improve the map quality by automatically transcribing the address numbers from a patch of pixels. The transcribed number with a known street address helps pinpoint the location of the building it represents. \n",
        "\n",
        "----------------\n",
        "## **Objective**\n",
        "----------------\n",
        "\n",
        "To build a CNN model that can recognize the digits in the images.\n",
        "\n",
        "-------------\n",
        "## **Dataset**\n",
        "-------------\n",
        "Here, we will use a subset of the original data to save some computation time. The dataset is provided as a .h5 file. The basic preprocessing steps have been applied on the dataset."
      ]
    },
    {
      "cell_type": "markdown",
      "metadata": {
        "id": "8z2Z7-OAs8QG"
      },
      "source": [
        "## **Mount the drive**\n",
        "\n",
        "Let us start by mounting the Google drive. You can run the below cell to mount the Google drive."
      ]
    },
    {
      "cell_type": "code",
      "execution_count": 29,
      "metadata": {
        "colab": {
          "base_uri": "https://localhost:8080/"
        },
        "id": "03lDyQUuef7z",
        "outputId": "07a06815-14e9-472c-fb0f-3deca691ceaa"
      },
      "outputs": [
        {
          "output_type": "stream",
          "name": "stdout",
          "text": [
            "Drive already mounted at /content/drive; to attempt to forcibly remount, call drive.mount(\"/content/drive\", force_remount=True).\n"
          ]
        }
      ],
      "source": [
        "from google.colab import drive\n",
        "\n",
        "drive.mount('/content/drive')"
      ]
    },
    {
      "cell_type": "markdown",
      "metadata": {
        "id": "C8U3DUa3eNsT"
      },
      "source": [
        "## **Importing the necessary libraries**"
      ]
    },
    {
      "cell_type": "code",
      "execution_count": 30,
      "metadata": {
        "id": "-dVzeuF3eQx1"
      },
      "outputs": [],
      "source": [
        "import numpy as np\n",
        "\n",
        "import pandas as pd\n",
        "\n",
        "import matplotlib.pyplot as plt\n",
        "\n",
        "import seaborn as sns\n",
        "\n",
        "from sklearn.model_selection import train_test_split\n",
        "\n",
        "from sklearn.preprocessing import MinMaxScaler\n",
        "\n",
        "import tensorflow as tf\n",
        "\n",
        "from tensorflow.keras.models import Sequential\n",
        "\n",
        "from tensorflow.keras.layers import Dense, Conv2D, MaxPool2D, BatchNormalization, Dropout, Flatten, LeakyReLU\n",
        "\n",
        "from tensorflow.keras.losses import categorical_crossentropy\n",
        "\n",
        "from tensorflow.keras.optimizers import Adam\n",
        "\n",
        "from tensorflow.keras.utils import to_categorical"
      ]
    },
    {
      "cell_type": "markdown",
      "metadata": {
        "id": "ucnevGLoyKf_"
      },
      "source": [
        "**Let us check the version of tensorflow.**"
      ]
    },
    {
      "cell_type": "code",
      "execution_count": 31,
      "metadata": {
        "colab": {
          "base_uri": "https://localhost:8080/"
        },
        "id": "W5as47YxyJVk",
        "outputId": "910c7bb3-cda7-4b71-b3bb-404090cdbd5c"
      },
      "outputs": [
        {
          "output_type": "stream",
          "name": "stdout",
          "text": [
            "2.8.2\n"
          ]
        }
      ],
      "source": [
        "print(tf.__version__)"
      ]
    },
    {
      "cell_type": "markdown",
      "metadata": {
        "id": "8lsux2ZwyTTR"
      },
      "source": [
        "## **Load the dataset**\n",
        "\n",
        "- Let us now load the dataset that is available as a .h5 file.\n",
        "- Split the data into the train and the test dataset."
      ]
    },
    {
      "cell_type": "code",
      "execution_count": 32,
      "metadata": {
        "id": "BApX9qgNsqV0",
        "scrolled": true
      },
      "outputs": [],
      "source": [
        "import h5py\n",
        "\n",
        "# Open the file as read only\n",
        "# User can make changes in the path as required\n",
        "\n",
        "h5f = h5py.File('/content/drive/MyDrive//ADSP/SVHN_single_grey1.h5', 'r')\n",
        "\n",
        "# Load the the train and the test dataset\n",
        "\n",
        "X_train = h5f['X_train'][:]\n",
        "\n",
        "y_train = h5f['y_train'][:]\n",
        "\n",
        "X_test = h5f['X_test'][:]\n",
        "\n",
        "y_test = h5f['y_test'][:]\n",
        "\n",
        "\n",
        "# Close this file\n",
        "\n",
        "h5f.close()"
      ]
    },
    {
      "cell_type": "markdown",
      "metadata": {
        "id": "hVe0CYpUgj7w"
      },
      "source": [
        "Let's check the number of images in the training and the testing dataset."
      ]
    },
    {
      "cell_type": "code",
      "execution_count": 33,
      "metadata": {
        "colab": {
          "base_uri": "https://localhost:8080/"
        },
        "id": "y3lwKpOefkpA",
        "outputId": "6173047b-acb8-4e9e-cd83-95eca44f6c93"
      },
      "outputs": [
        {
          "output_type": "execute_result",
          "data": {
            "text/plain": [
              "(42000, 18000)"
            ]
          },
          "metadata": {},
          "execution_count": 33
        }
      ],
      "source": [
        "len(X_train), len(X_test)"
      ]
    },
    {
      "cell_type": "markdown",
      "metadata": {
        "id": "akTUOfLlgwoM"
      },
      "source": [
        "**Observation:**\n",
        "- There are 42,000 images in the training data and 18,000 images in the testing data. "
      ]
    },
    {
      "cell_type": "markdown",
      "metadata": {
        "id": "kxODV6HKykuc"
      },
      "source": [
        "## **Visualizing images**\n",
        "\n",
        "- Use X_train to visualize the first 10 images.\n",
        "- Use Y_train to print the first 10 labels."
      ]
    },
    {
      "cell_type": "markdown",
      "metadata": {
        "id": "giALtffZKDNq"
      },
      "source": [
        "### **Question 1: Complete the below code to visualize the first 10 images in the dataset. (1 Mark)**"
      ]
    },
    {
      "cell_type": "code",
      "execution_count": 34,
      "metadata": {
        "colab": {
          "base_uri": "https://localhost:8080/",
          "height": 95
        },
        "id": "Bvsc8ytHsqWD",
        "outputId": "8b4b47e0-4034-4f97-d1a8-bcffc7f4c98f"
      },
      "outputs": [
        {
          "output_type": "display_data",
          "data": {
            "text/plain": [
              "<Figure size 720x72 with 10 Axes>"
            ],
            "image/png": "[encoded data removed]"
          },
          "metadata": {
            "needs_background": "light"
          }
        },
        {
          "output_type": "stream",
          "name": "stdout",
          "text": [
            "label for each of the above image: [2 6 7 4 4 0 3 0 7 3]\n"
          ]
        }
      ],
      "source": [
        "# Visualizing the first 10 images in the dataset and printing their labels\n",
        "\n",
        "%matplotlib inline\n",
        "\n",
        "import matplotlib.pyplot as plt\n",
        "\n",
        "plt.figure(figsize = (10, 1))\n",
        "\n",
        "for i in range(10):\n",
        "\n",
        "    plt.subplot(1, 10, i+1)\n",
        "    \n",
        "    plt.imshow(X_train[i], cmap = \"gray\")  # Write the function to visualize images\n",
        "\n",
        "    plt.axis('off')\n",
        "\n",
        "plt.show()\n",
        "\n",
        "print('label for each of the above image: %s' % (y_train[0:10]))"
      ]
    },
    {
      "cell_type": "markdown",
      "metadata": {
        "id": "kzoyeXHOy80N"
      },
      "source": [
        "## **Data preparation**\n",
        "\n",
        "- Print the shape and the array of pixels for the first image in the training dataset.\n",
        "- Reshape the train and the test dataset because we always have to give a 4D array as input to CNNs.\n",
        "- Normalize the train and the test dataset by dividing by 255.\n",
        "- Print the new shapes of the train and the test dataset.\n",
        "- One-hot encode the target variable."
      ]
    },
    {
      "cell_type": "code",
      "execution_count": 35,
      "metadata": {
        "colab": {
          "base_uri": "https://localhost:8080/"
        },
        "id": "NqndzQXng9rL",
        "outputId": "3a0b27ca-2c67-427e-d30b-70083c73f04c"
      },
      "outputs": [
        {
          "output_type": "stream",
          "name": "stdout",
          "text": [
            "Shape: (32, 32)\n",
            "\n",
            "First image:\n",
            " [[ 33.0704  30.2601  26.852  ...  71.4471  58.2204  42.9939]\n",
            " [ 25.2283  25.5533  29.9765 ... 113.0209 103.3639  84.2949]\n",
            " [ 26.2775  22.6137  40.4763 ... 113.3028 121.775  115.4228]\n",
            " ...\n",
            " [ 28.5502  36.212   45.0801 ...  24.1359  25.0927  26.0603]\n",
            " [ 38.4352  26.4733  23.2717 ...  28.1094  29.4683  30.0661]\n",
            " [ 50.2984  26.0773  24.0389 ...  49.6682  50.853   53.0377]]\n"
          ]
        }
      ],
      "source": [
        "# Shape and the array of pixels for the first image\n",
        "\n",
        "print(\"Shape:\", X_train[0].shape)\n",
        "\n",
        "print()\n",
        "\n",
        "print(\"First image:\\n\", X_train[0])"
      ]
    },
    {
      "cell_type": "code",
      "execution_count": 36,
      "metadata": {
        "id": "D9YPwf9ysqWU"
      },
      "outputs": [],
      "source": [
        "# Reshaping the dataset to be able to pass them to CNNs. Remember that we always have to give a 4D array as input to CNNs\n",
        "\n",
        "X_train = X_train.reshape(X_train.shape[0], 32, 32, 1)\n",
        "\n",
        "X_test = X_test.reshape(X_test.shape[0], 32, 32, 1)"
      ]
    },
    {
      "cell_type": "code",
      "execution_count": 37,
      "metadata": {
        "id": "q_yUUTp_mUzB"
      },
      "outputs": [],
      "source": [
        "# Normalize inputs from 0-255 to 0-1\n",
        "\n",
        "X_train = X_train / 255.0\n",
        "\n",
        "X_test = X_test / 255.0"
      ]
    },
    {
      "cell_type": "code",
      "execution_count": 38,
      "metadata": {
        "colab": {
          "base_uri": "https://localhost:8080/"
        },
        "id": "t7FSqOpamWkH",
        "outputId": "2db8147f-d1ef-43f3-ccc3-e48581c66906"
      },
      "outputs": [
        {
          "output_type": "stream",
          "name": "stdout",
          "text": [
            "Training set: (42000, 32, 32, 1) (42000,)\n",
            "Test set: (18000, 32, 32, 1) (18000,)\n"
          ]
        }
      ],
      "source": [
        "# New shape \n",
        "\n",
        "print('Training set:', X_train.shape, y_train.shape)\n",
        "\n",
        "print('Test set:', X_test.shape, y_test.shape)"
      ]
    },
    {
      "cell_type": "markdown",
      "metadata": {
        "id": "10QaOV-xR7Jn"
      },
      "source": [
        "### **Question 2: One-hot encode the labels in the target variable y_train and y_test. (2 Marks)**"
      ]
    },
    {
      "cell_type": "code",
      "execution_count": 39,
      "metadata": {
        "colab": {
          "base_uri": "https://localhost:8080/"
        },
        "id": "zL0lYER4sqWw",
        "outputId": "668dcf75-7eec-4d5d-9ce0-41395bb2a9b6"
      },
      "outputs": [
        {
          "output_type": "execute_result",
          "data": {
            "text/plain": [
              "array([[0., 1., 0., ..., 0., 0., 0.],\n",
              "       [0., 0., 0., ..., 1., 0., 0.],\n",
              "       [0., 0., 1., ..., 0., 0., 0.],\n",
              "       ...,\n",
              "       [0., 0., 0., ..., 1., 0., 0.],\n",
              "       [0., 0., 0., ..., 0., 0., 1.],\n",
              "       [0., 0., 1., ..., 0., 0., 0.]], dtype=float32)"
            ]
          },
          "metadata": {},
          "execution_count": 39
        }
      ],
      "source": [
        "# Write the function and appropriate variable name to one-hot encode the output\n",
        "\n",
        "y_train = to_categorical(y_train)\n",
        "\n",
        "y_test = to_categorical(y_test)\n",
        "\n",
        "# test labels\n",
        "\n",
        "y_test"
      ]
    },
    {
      "cell_type": "markdown",
      "metadata": {
        "id": "ViqPOTquCF76"
      },
      "source": [
        "**Observation:**\n",
        "- Notice that each entry of the target variable is a one-hot encoded vector instead of a single label."
      ]
    },
    {
      "cell_type": "markdown",
      "metadata": {
        "id": "yH-gVrzuByNA"
      },
      "source": [
        "## **Model Building**\n",
        "\n",
        "Now that we have done data preprocessing, let's build a CNN model."
      ]
    },
    {
      "cell_type": "code",
      "execution_count": 40,
      "metadata": {
        "id": "ZY5pyF4-KDNt"
      },
      "outputs": [],
      "source": [
        "# Fixing the seed for random number generators\n",
        "\n",
        "np.random.seed(42)\n",
        "\n",
        "import random\n",
        "\n",
        "random.seed(42)\n",
        "\n",
        "tf.random.set_seed(42)"
      ]
    },
    {
      "cell_type": "markdown",
      "metadata": {
        "id": "UJDUoaEj1d6e"
      },
      "source": [
        "### **Model Architecture**\n",
        "- **Write a function** that returns a sequential model with the following architecture:\n",
        " - First Convolutional layer with **16 filters and the kernel size of 3x3**. Use the **'same' padding** and provide the **input shape = (32, 32, 1)**\n",
        " - Add a **LeakyRelu layer** with the **slope equal to 0.1**\n",
        " - Second Convolutional layer with **32 filters and the kernel size of 3x3 with 'same' padding**\n",
        " - Another **LeakyRelu** with the **slope equal to 0.1**\n",
        " - A **max-pooling layer** with a **pool size of 2x2**\n",
        " - **Flatten** the output from the previous layer\n",
        " - Add a **dense layer with 32 nodes**\n",
        " - Add a **LeakyRelu layer with the slope equal to 0.1**\n",
        " - Add the final **output layer with nodes equal to the number of classes, i.e., 10** and **'softmax' as the activation function**\n",
        " - Compile the model with the **loss equal to categorical_crossentropy, optimizer equal to Adam(learning_rate = 0.001), and metric equal to 'accuracy'**. Do not fit the model here, just return the compiled model.\n",
        "- Call the function cnn_model_1 and store the output in a new variable.\n",
        "- Print the summary of the model.\n",
        "- Fit the model on the training data with a **validation split of 0.2, batch size = 32, verbose = 1, and epochs = 20**. Store the model building history to use later for visualization."
      ]
    },
    {
      "cell_type": "markdown",
      "metadata": {
        "id": "JWsAd45JKDNu"
      },
      "source": [
        "### **Question 3: Build and train a CNN model as per the above mentioned architecture. (10 Marks)**"
      ]
    },
    {
      "cell_type": "code",
      "execution_count": 41,
      "metadata": {
        "id": "Cmi81Gr5sqW-"
      },
      "outputs": [],
      "source": [
        "def cnn_model_1():\n",
        "\n",
        "    model = Sequential() \n",
        "\n",
        "    model.add(Conv2D(filters = 16, kernel_size = (3, 3), padding = \"same\", input_shape = (32, 32, 1)))\n",
        "\n",
        "    model.add(LeakyReLU(0.1))\n",
        "\n",
        "    model.add(Conv2D(filters = 32, kernel_size = (3, 3), padding = 'same'))\n",
        "\n",
        "    model.add(LeakyReLU(0.1))\n",
        "\n",
        "    model.add(MaxPool2D(pool_size = (2, 2)))\n",
        "\n",
        "    model.add(Flatten())\n",
        "\n",
        "    model.add(Dense(32))\n",
        "\n",
        "    model.add(LeakyReLU(0.1))\n",
        "\n",
        "    model.add(Dense(10, activation = 'softmax'))\n",
        "\n",
        "    model.compile(loss = 'categorical_crossentropy', \n",
        "                  optimizer = tf.keras.optimizers.Adamax(learning_rate = 0.001),\n",
        "                  metrics = ['accuracy'])\n",
        "    \n",
        "    return model"
      ]
    },
    {
      "cell_type": "code",
      "execution_count": 42,
      "metadata": {
        "id": "bGCUI_xsImnH"
      },
      "outputs": [],
      "source": [
        "# Build the model\n",
        "\n",
        "model_1 = cnn_model_1()"
      ]
    },
    {
      "cell_type": "code",
      "execution_count": 43,
      "metadata": {
        "id": "ckJsLdmdQadZ",
        "colab": {
          "base_uri": "https://localhost:8080/"
        },
        "outputId": "2b4e1c31-4f33-4c4d-80c0-ee40ea414eb4"
      },
      "outputs": [
        {
          "output_type": "stream",
          "name": "stdout",
          "text": [
            "Model: \"sequential_1\"\n",
            "_________________________________________________________________\n",
            " Layer (type)                Output Shape              Param #   \n",
            "=================================================================\n",
            " conv2d_4 (Conv2D)           (None, 32, 32, 16)        160       \n",
            "                                                                 \n",
            " leaky_re_lu_5 (LeakyReLU)   (None, 32, 32, 16)        0         \n",
            "                                                                 \n",
            " conv2d_5 (Conv2D)           (None, 32, 32, 32)        4640      \n",
            "                                                                 \n",
            " leaky_re_lu_6 (LeakyReLU)   (None, 32, 32, 32)        0         \n",
            "                                                                 \n",
            " max_pooling2d_2 (MaxPooling  (None, 16, 16, 32)       0         \n",
            " 2D)                                                             \n",
            "                                                                 \n",
            " flatten_1 (Flatten)         (None, 8192)              0         \n",
            "                                                                 \n",
            " dense_2 (Dense)             (None, 32)                262176    \n",
            "                                                                 \n",
            " leaky_re_lu_7 (LeakyReLU)   (None, 32)                0         \n",
            "                                                                 \n",
            " dense_3 (Dense)             (None, 10)                330       \n",
            "                                                                 \n",
            "=================================================================\n",
            "Total params: 267,306\n",
            "Trainable params: 267,306\n",
            "Non-trainable params: 0\n",
            "_________________________________________________________________\n"
          ]
        }
      ],
      "source": [
        "# Print the model summary\n",
        "\n",
        "model_1.summary()"
      ]
    },
    {
      "cell_type": "code",
      "execution_count": 44,
      "metadata": {
        "id": "3Fy3Dif_zcCk",
        "colab": {
          "base_uri": "https://localhost:8080/"
        },
        "outputId": "6725c316-1edd-4b18-bee3-fe6e340c999a"
      },
      "outputs": [
        {
          "output_type": "stream",
          "name": "stdout",
          "text": [
            "Epoch 1/20\n",
            "1050/1050 [==============================] - 58s 55ms/step - loss: 1.7209 - accuracy: 0.4379 - val_loss: 1.0692 - val_accuracy: 0.6811\n",
            "Epoch 2/20\n",
            "1050/1050 [==============================] - 57s 54ms/step - loss: 0.8398 - accuracy: 0.7580 - val_loss: 0.7155 - val_accuracy: 0.8027\n",
            "Epoch 3/20\n",
            "1050/1050 [==============================] - 56s 53ms/step - loss: 0.6494 - accuracy: 0.8121 - val_loss: 0.6449 - val_accuracy: 0.8151\n",
            "Epoch 4/20\n",
            "1050/1050 [==============================] - 57s 55ms/step - loss: 0.5731 - accuracy: 0.8357 - val_loss: 0.5811 - val_accuracy: 0.8348\n",
            "Epoch 5/20\n",
            "1050/1050 [==============================] - 57s 54ms/step - loss: 0.5326 - accuracy: 0.8468 - val_loss: 0.5876 - val_accuracy: 0.8367\n",
            "Epoch 6/20\n",
            "1050/1050 [==============================] - 55s 53ms/step - loss: 0.4980 - accuracy: 0.8571 - val_loss: 0.5727 - val_accuracy: 0.8339\n",
            "Epoch 7/20\n",
            "1050/1050 [==============================] - 57s 54ms/step - loss: 0.4767 - accuracy: 0.8638 - val_loss: 0.5272 - val_accuracy: 0.8536\n",
            "Epoch 8/20\n",
            "1050/1050 [==============================] - 55s 53ms/step - loss: 0.4560 - accuracy: 0.8685 - val_loss: 0.5328 - val_accuracy: 0.8481\n",
            "Epoch 9/20\n",
            "1050/1050 [==============================] - 56s 54ms/step - loss: 0.4331 - accuracy: 0.8746 - val_loss: 0.5128 - val_accuracy: 0.8585\n",
            "Epoch 10/20\n",
            "1050/1050 [==============================] - 56s 53ms/step - loss: 0.4172 - accuracy: 0.8798 - val_loss: 0.4987 - val_accuracy: 0.8648\n",
            "Epoch 11/20\n",
            "1050/1050 [==============================] - 55s 52ms/step - loss: 0.3985 - accuracy: 0.8854 - val_loss: 0.5266 - val_accuracy: 0.8546\n",
            "Epoch 12/20\n",
            "1050/1050 [==============================] - 56s 53ms/step - loss: 0.3832 - accuracy: 0.8878 - val_loss: 0.5029 - val_accuracy: 0.8611\n",
            "Epoch 13/20\n",
            "1050/1050 [==============================] - 55s 52ms/step - loss: 0.3668 - accuracy: 0.8933 - val_loss: 0.5203 - val_accuracy: 0.8595\n",
            "Epoch 14/20\n",
            "1050/1050 [==============================] - 56s 53ms/step - loss: 0.3533 - accuracy: 0.8969 - val_loss: 0.4965 - val_accuracy: 0.8657\n",
            "Epoch 15/20\n",
            "1050/1050 [==============================] - 56s 53ms/step - loss: 0.3411 - accuracy: 0.9002 - val_loss: 0.4986 - val_accuracy: 0.8620\n",
            "Epoch 16/20\n",
            "1050/1050 [==============================] - 55s 52ms/step - loss: 0.3280 - accuracy: 0.9048 - val_loss: 0.4901 - val_accuracy: 0.8635\n",
            "Epoch 17/20\n",
            "1050/1050 [==============================] - 57s 54ms/step - loss: 0.3175 - accuracy: 0.9065 - val_loss: 0.4910 - val_accuracy: 0.8671\n",
            "Epoch 18/20\n",
            "1050/1050 [==============================] - 55s 52ms/step - loss: 0.3032 - accuracy: 0.9107 - val_loss: 0.4902 - val_accuracy: 0.8693\n",
            "Epoch 19/20\n",
            "1050/1050 [==============================] - 56s 53ms/step - loss: 0.2919 - accuracy: 0.9146 - val_loss: 0.4760 - val_accuracy: 0.8724\n",
            "Epoch 20/20\n",
            "1050/1050 [==============================] - 57s 54ms/step - loss: 0.2815 - accuracy: 0.9179 - val_loss: 0.4884 - val_accuracy: 0.8712\n"
          ]
        }
      ],
      "source": [
        "# Fit the model\n",
        "\n",
        "history_model_1 = model_1.fit(X_train, y_train, epochs = 20, validation_split = 0.2, batch_size = 32, verbose = 1)"
      ]
    },
    {
      "cell_type": "markdown",
      "metadata": {
        "id": "tKOckG-KPyLg"
      },
      "source": [
        "### **Plotting the validation and training accuracies**"
      ]
    },
    {
      "cell_type": "markdown",
      "metadata": {
        "id": "JPzfIf9kKDNw"
      },
      "source": [
        "### **Question 4: Write your observations on the below plot. (2 Marks)**"
      ]
    },
    {
      "cell_type": "code",
      "execution_count": 45,
      "metadata": {
        "colab": {
          "base_uri": "https://localhost:8080/",
          "height": 497
        },
        "id": "lt77zgGMP4yw",
        "outputId": "24640c04-a4fd-464e-bc43-4ec29911c7d9"
      },
      "outputs": [
        {
          "output_type": "display_data",
          "data": {
            "text/plain": [
              "<Figure size 576x576 with 1 Axes>"
            ],
            "image/png": "[encoded data removed]"
          },
          "metadata": {
            "needs_background": "light"
          }
        }
      ],
      "source": [
        "# Plotting the accuracies\n",
        "\n",
        "dict_hist = history_model_1.history\n",
        "\n",
        "list_ep = [i for i in range(1, 21)]\n",
        "\n",
        "plt.figure(figsize = (8, 8))\n",
        "\n",
        "plt.plot(list_ep, dict_hist['accuracy'], ls = '--', label = 'accuracy')\n",
        "\n",
        "plt.plot(list_ep, dict_hist['val_accuracy'], ls = '--', label = 'val_accuracy')\n",
        "\n",
        "plt.ylabel('Accuracy')\n",
        "\n",
        "plt.xlabel('Epochs')\n",
        "\n",
        "plt.legend()\n",
        "\n",
        "plt.show()"
      ]
    },
    {
      "cell_type": "markdown",
      "metadata": {
        "id": "pGBbQpLONX7k"
      },
      "source": [
        "**Observations:__________**"
      ]
    },
    {
      "cell_type": "markdown",
      "metadata": {
        "id": "z0qgLMBZm5-K"
      },
      "source": [
        "Let's build another model and see if we can get a better model with generalized performance.\n",
        "\n",
        "First, we need to clear the previous model's history from the Keras backend. Also, let's fix the seed again after clearing the backend."
      ]
    },
    {
      "cell_type": "code",
      "execution_count": 46,
      "metadata": {
        "id": "y98BpLxsok_H"
      },
      "outputs": [],
      "source": [
        "# Clearing backend\n",
        "\n",
        "from tensorflow.keras import backend\n",
        "\n",
        "backend.clear_session()"
      ]
    },
    {
      "cell_type": "code",
      "execution_count": 47,
      "metadata": {
        "id": "HbKi93HTolGW"
      },
      "outputs": [],
      "source": [
        "# Fixing the seed for random number generators\n",
        "\n",
        "np.random.seed(42)\n",
        "\n",
        "import random\n",
        "\n",
        "random.seed(42)\n",
        "\n",
        "tf.random.set_seed(42)"
      ]
    },
    {
      "cell_type": "markdown",
      "metadata": {
        "id": "lT6o3TIKuCtk"
      },
      "source": [
        "### **Second Model Architecture**\n",
        "\n",
        "- Write a function that returns a sequential model with the following architecture:\n",
        " - First Convolutional layer with **16 filters and the kernel size of 3x3**. Use the **'same' padding** and provide the **input shape = (32, 32, 1)**\n",
        " - Add a **LeakyRelu layer** with the **slope equal to 0.1**\n",
        " - Second Convolutional layer with **32 filters and the kernel size of 3x3 with 'same' padding**\n",
        " - Add **LeakyRelu** with the **slope equal to 0.1**\n",
        " - Add a **max-pooling layer** with a **pool size of 2x2**\n",
        " - Add a **BatchNormalization layer**\n",
        " - Third Convolutional layer with **32 filters and the kernel size of 3x3 with 'same' padding**\n",
        " - Add a **LeakyRelu layer with the slope equal to 0.1**\n",
        " - Fourth Convolutional layer **64 filters and the kernel size of 3x3 with 'same' padding** \n",
        " - Add a **LeakyRelu layer with the slope equal to 0.1**\n",
        " - Add a **max-pooling layer** with a **pool size of 2x2**\n",
        " - Add a **BatchNormalization layer**\n",
        " - **Flatten** the output from the previous layer\n",
        " - Add a **dense layer with 32 nodes**\n",
        " - Add a **LeakyRelu layer with the slope equal to 0.1**\n",
        " - Add a **dropout layer with the rate equal to 0.5**\n",
        " - Add the final **output layer with nodes equal to the number of classes, i.e., 10** and **'softmax' as the activation function**\n",
        " - Compile the model with the **categorical_crossentropy loss, adam optimizers (learning_rate = 0.001), and metric equal to 'accuracy'**. Do not fit the model here, just return the compiled model.\n",
        "- Call the function cnn_model_2 and store the model in a new variable.\n",
        "- Print the summary of the model.\n",
        "- Fit the model on the train data with a **validation split of 0.2, batch size = 128, verbose = 1, and epochs = 30**. Store the model building history to use later for visualization."
      ]
    },
    {
      "cell_type": "markdown",
      "metadata": {
        "id": "y5IBLS1eKDNy"
      },
      "source": [
        "### **Question 5: Build and train the second CNN model as per the above mentioned architecture. (10 Marks)**"
      ]
    },
    {
      "cell_type": "code",
      "execution_count": 48,
      "metadata": {
        "id": "EEPYLFIPnSDP"
      },
      "outputs": [],
      "source": [
        "# Define the model\n",
        "\n",
        "def cnn_model_2():\n",
        "    \n",
        "    model = Sequential()\n",
        "    \n",
        "    # Add layers as per the architecture mentioned above in the same sequence\n",
        "\n",
        "    model.add(Conv2D(filters = 16, kernel_size = (3, 3), padding = \"same\", input_shape = (32, 32, 1)))\n",
        "\n",
        "    model.add(LeakyReLU(0.1))\n",
        "\n",
        "    model.add(Conv2D(filters = 32, kernel_size = (3, 3), padding = \"same\"))\n",
        "\n",
        "    model.add(LeakyReLU(0.1))\n",
        "\n",
        "    model.add(MaxPool2D(pool_size = (2, 2)))\n",
        "\n",
        "    model.add(BatchNormalization())\n",
        "\n",
        "    model.add(Conv2D(filters = 32, kernel_size = (3, 3), padding = \"same\"))\n",
        "\n",
        "    model.add(LeakyReLU(0.1))\n",
        "\n",
        "    model.add(Conv2D(filters = 64, kernel_size = (3, 3), padding = \"same\"))\n",
        "\n",
        "    model.add(LeakyReLU(0.1))\n",
        "\n",
        "    model.add(MaxPool2D(pool_size = (2, 2)))\n",
        "\n",
        "    model.add(BatchNormalization())\n",
        "\n",
        "    model.add(Flatten())\n",
        "\n",
        "    model.add(Dense(32))\n",
        "\n",
        "    model.add(LeakyReLU(0.1))\n",
        "\n",
        "    model.add(Dropout(0.5))\n",
        "\n",
        "    model.add(Dense(10, activation = 'softmax'))\n",
        "\n",
        "    # Compile the model\n",
        "\n",
        "    model.compile(loss = 'categorical_crossentropy', \n",
        "                  optimizer = tf.keras.optimizers.Adamax(learning_rate = 0.001),\n",
        "                  metrics = ['accuracy'])\n",
        "    \n",
        "    return model"
      ]
    },
    {
      "cell_type": "code",
      "execution_count": 49,
      "metadata": {
        "id": "AKjDY4plnSFl"
      },
      "outputs": [],
      "source": [
        "# Build the model\n",
        "\n",
        "model_2 = cnn_model_2()"
      ]
    },
    {
      "cell_type": "code",
      "execution_count": 50,
      "metadata": {
        "id": "gz_6SVrU2swZ",
        "colab": {
          "base_uri": "https://localhost:8080/"
        },
        "outputId": "68452fb4-c794-47e5-c583-0a7449f4ff02"
      },
      "outputs": [
        {
          "output_type": "stream",
          "name": "stdout",
          "text": [
            "Model: \"sequential\"\n",
            "_________________________________________________________________\n",
            " Layer (type)                Output Shape              Param #   \n",
            "=================================================================\n",
            " conv2d (Conv2D)             (None, 32, 32, 16)        160       \n",
            "                                                                 \n",
            " leaky_re_lu (LeakyReLU)     (None, 32, 32, 16)        0         \n",
            "                                                                 \n",
            " conv2d_1 (Conv2D)           (None, 32, 32, 32)        4640      \n",
            "                                                                 \n",
            " leaky_re_lu_1 (LeakyReLU)   (None, 32, 32, 32)        0         \n",
            "                                                                 \n",
            " max_pooling2d (MaxPooling2D  (None, 16, 16, 32)       0         \n",
            " )                                                               \n",
            "                                                                 \n",
            " batch_normalization (BatchN  (None, 16, 16, 32)       128       \n",
            " ormalization)                                                   \n",
            "                                                                 \n",
            " conv2d_2 (Conv2D)           (None, 16, 16, 32)        9248      \n",
            "                                                                 \n",
            " leaky_re_lu_2 (LeakyReLU)   (None, 16, 16, 32)        0         \n",
            "                                                                 \n",
            " conv2d_3 (Conv2D)           (None, 16, 16, 64)        18496     \n",
            "                                                                 \n",
            " leaky_re_lu_3 (LeakyReLU)   (None, 16, 16, 64)        0         \n",
            "                                                                 \n",
            " max_pooling2d_1 (MaxPooling  (None, 8, 8, 64)         0         \n",
            " 2D)                                                             \n",
            "                                                                 \n",
            " batch_normalization_1 (Batc  (None, 8, 8, 64)         256       \n",
            " hNormalization)                                                 \n",
            "                                                                 \n",
            " flatten (Flatten)           (None, 4096)              0         \n",
            "                                                                 \n",
            " dense (Dense)               (None, 32)                131104    \n",
            "                                                                 \n",
            " leaky_re_lu_4 (LeakyReLU)   (None, 32)                0         \n",
            "                                                                 \n",
            " dropout (Dropout)           (None, 32)                0         \n",
            "                                                                 \n",
            " dense_1 (Dense)             (None, 10)                330       \n",
            "                                                                 \n",
            "=================================================================\n",
            "Total params: 164,362\n",
            "Trainable params: 164,170\n",
            "Non-trainable params: 192\n",
            "_________________________________________________________________\n"
          ]
        }
      ],
      "source": [
        "# Print the summary\n",
        "\n",
        "model_2.summary()"
      ]
    },
    {
      "cell_type": "code",
      "execution_count": 51,
      "metadata": {
        "id": "IQ0Sc4R-y-uu",
        "colab": {
          "base_uri": "https://localhost:8080/"
        },
        "outputId": "a4ceec3f-712e-4032-8891-3276ef3a8306"
      },
      "outputs": [
        {
          "output_type": "stream",
          "name": "stdout",
          "text": [
            "Epoch 1/30\n",
            "263/263 [==============================] - 82s 311ms/step - loss: 1.8082 - accuracy: 0.3600 - val_loss: 2.9518 - val_accuracy: 0.1776\n",
            "Epoch 2/30\n",
            "263/263 [==============================] - 82s 310ms/step - loss: 0.9577 - accuracy: 0.6910 - val_loss: 1.1281 - val_accuracy: 0.6543\n",
            "Epoch 3/30\n",
            "263/263 [==============================] - 81s 310ms/step - loss: 0.7392 - accuracy: 0.7691 - val_loss: 0.5829 - val_accuracy: 0.8262\n",
            "Epoch 4/30\n",
            "263/263 [==============================] - 81s 309ms/step - loss: 0.6436 - accuracy: 0.8006 - val_loss: 0.4706 - val_accuracy: 0.8619\n",
            "Epoch 5/30\n",
            "263/263 [==============================] - 81s 310ms/step - loss: 0.5707 - accuracy: 0.8250 - val_loss: 0.4409 - val_accuracy: 0.8729\n",
            "Epoch 6/30\n",
            "263/263 [==============================] - 81s 308ms/step - loss: 0.5243 - accuracy: 0.8384 - val_loss: 0.4126 - val_accuracy: 0.8824\n",
            "Epoch 7/30\n",
            "263/263 [==============================] - 80s 304ms/step - loss: 0.4897 - accuracy: 0.8500 - val_loss: 0.3971 - val_accuracy: 0.8830\n",
            "Epoch 8/30\n",
            "263/263 [==============================] - 81s 309ms/step - loss: 0.4530 - accuracy: 0.8596 - val_loss: 0.4004 - val_accuracy: 0.8800\n",
            "Epoch 9/30\n",
            "263/263 [==============================] - 81s 310ms/step - loss: 0.4182 - accuracy: 0.8712 - val_loss: 0.3709 - val_accuracy: 0.8943\n",
            "Epoch 10/30\n",
            "263/263 [==============================] - 81s 307ms/step - loss: 0.4012 - accuracy: 0.8765 - val_loss: 0.3533 - val_accuracy: 0.8995\n",
            "Epoch 11/30\n",
            "263/263 [==============================] - 81s 308ms/step - loss: 0.3798 - accuracy: 0.8819 - val_loss: 0.3612 - val_accuracy: 0.8977\n",
            "Epoch 12/30\n",
            "263/263 [==============================] - 81s 308ms/step - loss: 0.3613 - accuracy: 0.8886 - val_loss: 0.3753 - val_accuracy: 0.8992\n",
            "Epoch 13/30\n",
            "263/263 [==============================] - 79s 302ms/step - loss: 0.3458 - accuracy: 0.8910 - val_loss: 0.3480 - val_accuracy: 0.9030\n",
            "Epoch 14/30\n",
            "263/263 [==============================] - 80s 305ms/step - loss: 0.3328 - accuracy: 0.8940 - val_loss: 0.3545 - val_accuracy: 0.8988\n",
            "Epoch 15/30\n",
            "263/263 [==============================] - 80s 305ms/step - loss: 0.3167 - accuracy: 0.9013 - val_loss: 0.3873 - val_accuracy: 0.8855\n",
            "Epoch 16/30\n",
            "263/263 [==============================] - 80s 306ms/step - loss: 0.3094 - accuracy: 0.9035 - val_loss: 0.3492 - val_accuracy: 0.9024\n",
            "Epoch 17/30\n",
            "263/263 [==============================] - 80s 306ms/step - loss: 0.2911 - accuracy: 0.9085 - val_loss: 0.3687 - val_accuracy: 0.8994\n",
            "Epoch 18/30\n",
            "263/263 [==============================] - 79s 299ms/step - loss: 0.2788 - accuracy: 0.9104 - val_loss: 0.3422 - val_accuracy: 0.9018\n",
            "Epoch 19/30\n",
            "263/263 [==============================] - 80s 305ms/step - loss: 0.2714 - accuracy: 0.9133 - val_loss: 0.3361 - val_accuracy: 0.9080\n",
            "Epoch 20/30\n",
            "263/263 [==============================] - 80s 305ms/step - loss: 0.2531 - accuracy: 0.9204 - val_loss: 0.3539 - val_accuracy: 0.9070\n",
            "Epoch 21/30\n",
            "263/263 [==============================] - 80s 305ms/step - loss: 0.2495 - accuracy: 0.9205 - val_loss: 0.3428 - val_accuracy: 0.9104\n",
            "Epoch 22/30\n",
            "263/263 [==============================] - 80s 305ms/step - loss: 0.2370 - accuracy: 0.9237 - val_loss: 0.3415 - val_accuracy: 0.9079\n",
            "Epoch 23/30\n",
            "263/263 [==============================] - 79s 300ms/step - loss: 0.2329 - accuracy: 0.9250 - val_loss: 0.3604 - val_accuracy: 0.9105\n",
            "Epoch 24/30\n",
            "263/263 [==============================] - 80s 303ms/step - loss: 0.2248 - accuracy: 0.9284 - val_loss: 0.3358 - val_accuracy: 0.9098\n",
            "Epoch 25/30\n",
            "263/263 [==============================] - 80s 305ms/step - loss: 0.2102 - accuracy: 0.9323 - val_loss: 0.3659 - val_accuracy: 0.9118\n",
            "Epoch 26/30\n",
            "263/263 [==============================] - 80s 304ms/step - loss: 0.2060 - accuracy: 0.9326 - val_loss: 0.3616 - val_accuracy: 0.9083\n",
            "Epoch 27/30\n",
            "263/263 [==============================] - 80s 305ms/step - loss: 0.1974 - accuracy: 0.9350 - val_loss: 0.3750 - val_accuracy: 0.9070\n",
            "Epoch 28/30\n",
            "263/263 [==============================] - 79s 299ms/step - loss: 0.1935 - accuracy: 0.9371 - val_loss: 0.3593 - val_accuracy: 0.9081\n",
            "Epoch 29/30\n",
            "263/263 [==============================] - 80s 304ms/step - loss: 0.1873 - accuracy: 0.9373 - val_loss: 0.3500 - val_accuracy: 0.9111\n",
            "Epoch 30/30\n",
            "263/263 [==============================] - 80s 303ms/step - loss: 0.1876 - accuracy: 0.9386 - val_loss: 0.3691 - val_accuracy: 0.9088\n"
          ]
        }
      ],
      "source": [
        "# Fit the model\n",
        "\n",
        "history_model_2 = model_2.fit(X_train, y_train, epochs = 30, validation_split = 0.2, batch_size = 128, verbose = 1)"
      ]
    },
    {
      "cell_type": "markdown",
      "metadata": {
        "id": "zKCdy59GKDN1"
      },
      "source": [
        "### **Plotting the validation and training accuracies**"
      ]
    },
    {
      "cell_type": "markdown",
      "metadata": {
        "id": "PyhUtMy3KDN1"
      },
      "source": [
        "### **Question 6: Write your observations on the below plot. (2 Marks)**"
      ]
    },
    {
      "cell_type": "code",
      "execution_count": 52,
      "metadata": {
        "colab": {
          "base_uri": "https://localhost:8080/",
          "height": 497
        },
        "id": "01ig6BrF1KVy",
        "outputId": "442c6ab1-4ffa-482b-ce46-73d3e5ed8782"
      },
      "outputs": [
        {
          "output_type": "display_data",
          "data": {
            "text/plain": [
              "<Figure size 576x576 with 1 Axes>"
            ],
            "image/png": "[encoded data removed]"
          },
          "metadata": {
            "needs_background": "light"
          }
        }
      ],
      "source": [
        "# Plotting the accuracies\n",
        "\n",
        "dict_hist = history_model_2.history\n",
        "\n",
        "list_ep = [i for i in range(1, 31)]\n",
        "\n",
        "plt.figure(figsize = (8, 8))\n",
        "\n",
        "plt.plot(list_ep, dict_hist['accuracy'], ls = '--', label = 'accuracy')\n",
        "\n",
        "plt.plot(list_ep, dict_hist['val_accuracy'], ls = '--', label = 'val_accuracy')\n",
        "\n",
        "plt.ylabel('Accuracy')\n",
        "\n",
        "plt.xlabel('Epochs')\n",
        "\n",
        "plt.legend()\n",
        "\n",
        "plt.show()"
      ]
    },
    {
      "cell_type": "markdown",
      "metadata": {
        "id": "VPW1LlD61RDn"
      },
      "source": [
        "**Observations:________**"
      ]
    },
    {
      "cell_type": "markdown",
      "metadata": {
        "id": "8kuXx9Bvu00f"
      },
      "source": [
        "## **Predictions on the test data**\n",
        "\n",
        "- Make predictions on the test set using the second model.\n",
        "- Print the obtained results using the classification report and the confusion matrix.\n",
        "- Final observations on the obtained results."
      ]
    },
    {
      "cell_type": "markdown",
      "metadata": {
        "id": "eHCRwRbgKDN2"
      },
      "source": [
        "### **Question 7: Make predictions on the test data using the second model. (1 Mark)** "
      ]
    },
    {
      "cell_type": "code",
      "execution_count": 53,
      "metadata": {
        "id": "xbWMEtTj5Ad0"
      },
      "outputs": [],
      "source": [
        "# Make prediction on the test data using model_2 \n",
        "\n",
        "test_pred = model_2.predict(X_test)\n",
        "\n",
        "test_pred = np.argmax(test_pred, axis = -1)"
      ]
    },
    {
      "cell_type": "markdown",
      "metadata": {
        "id": "i3li8Ib08yts"
      },
      "source": [
        "**Note:** Earlier, we noticed that each entry of the target variable is a one-hot encoded vector, but to print the classification report and confusion matrix, we must convert each entry of y_test to a single label."
      ]
    },
    {
      "cell_type": "code",
      "execution_count": 54,
      "metadata": {
        "id": "NByu7uAQ8x9P"
      },
      "outputs": [],
      "source": [
        "# Converting each entry to single label from one-hot encoded vector\n",
        "\n",
        "y_test = np.argmax(y_test, axis = -1)"
      ]
    },
    {
      "cell_type": "markdown",
      "metadata": {
        "id": "aVCa-ysWKDN3"
      },
      "source": [
        "### **Question 8: Write your final observations on the performance of the model on the test data. (2 Marks)**"
      ]
    },
    {
      "cell_type": "code",
      "execution_count": 55,
      "metadata": {
        "colab": {
          "base_uri": "https://localhost:8080/",
          "height": 629
        },
        "id": "xRddeJ-3EHT1",
        "outputId": "23902599-b87d-4610-f5b9-c3428baceac6"
      },
      "outputs": [
        {
          "output_type": "stream",
          "name": "stdout",
          "text": [
            "              precision    recall  f1-score   support\n",
            "\n",
            "           0       0.90      0.95      0.92      1814\n",
            "           1       0.89      0.92      0.90      1828\n",
            "           2       0.94      0.91      0.92      1803\n",
            "           3       0.92      0.85      0.88      1719\n",
            "           4       0.91      0.93      0.92      1812\n",
            "           5       0.90      0.91      0.90      1768\n",
            "           6       0.89      0.89      0.89      1832\n",
            "           7       0.96      0.91      0.93      1808\n",
            "           8       0.89      0.90      0.90      1812\n",
            "           9       0.89      0.90      0.90      1804\n",
            "\n",
            "    accuracy                           0.91     18000\n",
            "   macro avg       0.91      0.91      0.91     18000\n",
            "weighted avg       0.91      0.91      0.91     18000\n",
            "\n"
          ]
        },
        {
          "output_type": "display_data",
          "data": {
            "text/plain": [
              "<Figure size 576x360 with 2 Axes>"
            ],
            "image/png": "[encoded data removed]"
          },
          "metadata": {
            "needs_background": "light"
          }
        }
      ],
      "source": [
        "# Importing required functions\n",
        "\n",
        "from sklearn.metrics import classification_report\n",
        "\n",
        "from sklearn.metrics import confusion_matrix\n",
        "\n",
        "# Printing the classification report\n",
        "\n",
        "print(classification_report(y_test, test_pred))\n",
        "\n",
        "# Plotting the heatmap using confusion matrix\n",
        "\n",
        "cm = confusion_matrix(y_test, test_pred)\n",
        "\n",
        "plt.figure(figsize = (8, 5))\n",
        "\n",
        "sns.heatmap(cm, annot = True,  fmt = '.0f')\n",
        "\n",
        "plt.ylabel('Actual')\n",
        "\n",
        "plt.xlabel('Predicted')\n",
        "\n",
        "plt.show()"
      ]
    },
    {
      "cell_type": "markdown",
      "metadata": {
        "id": "DjErl4GA2u9s"
      },
      "source": [
        "**Final Observations:_________**"
      ]
    }
  ],
  "metadata": {
    "colab": {
      "collapsed_sections": [],
      "name": "CNN_Project_Learner_Notebook_SVHN.Resolved.ipynb",
      "provenance": [],
      "include_colab_link": true
    },
    "kernelspec": {
      "display_name": "Python 3 (ipykernel)",
      "language": "python",
      "name": "python3"
    },
    "language_info": {
      "codemirror_mode": {
        "name": "ipython",
        "version": 3
      },
      "file_extension": ".py",
      "mimetype": "text/x-python",
      "name": "python",
      "nbconvert_exporter": "python",
      "pygments_lexer": "ipython3",
      "version": "3.9.7"
    },
    "gpuClass": "standard"
  },
  "nbformat": 4,
  "nbformat_minor": 0
}